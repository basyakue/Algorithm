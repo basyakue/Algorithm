{
  "nbformat": 4,
  "nbformat_minor": 0,
  "metadata": {
    "colab": {
      "name": "DFS.ipynb",
      "provenance": [],
      "authorship_tag": "ABX9TyOBcYB9hnIVIlUJNclfhiBW",
      "include_colab_link": true
    },
    "kernelspec": {
      "name": "python3",
      "display_name": "Python 3"
    }
  },
  "cells": [
    {
      "cell_type": "markdown",
      "metadata": {
        "id": "view-in-github",
        "colab_type": "text"
      },
      "source": [
        "<a href=\"https://colab.research.google.com/github/basyakue/Algorithm/blob/master/DFS.ipynb\" target=\"_parent\"><img src=\"https://colab.research.google.com/assets/colab-badge.svg\" alt=\"Open In Colab\"/></a>"
      ]
    },
    {
      "cell_type": "markdown",
      "metadata": {
        "id": "-dW8AZ9DVe4v",
        "colab_type": "text"
      },
      "source": [
        "# 深さ優先探索\n",
        "[深さ優先探索 wiki](https://ja.wikipedia.org/wiki/%E6%B7%B1%E3%81%95%E5%84%AA%E5%85%88%E6%8E%A2%E7%B4%A2)"
      ]
    },
    {
      "cell_type": "code",
      "metadata": {
        "id": "KC_pUhB8VVPB",
        "colab_type": "code",
        "colab": {}
      },
      "source": [
        "#Pythonでの実装(再帰なし)\n",
        "def depthFirstSearch( start, goal ):\n",
        "    stack = Stack()\n",
        "    start.setVisited()\n",
        "    stack.push( start )\n",
        "    while not stack.empty():\n",
        "        node = stack.top()\n",
        "        if node == goal:\n",
        "            return stack # stack には2頂点間の経路が入っている\n",
        "        else:\n",
        "            child = node.findUnvisitedChild()\n",
        "            if child == none:\n",
        "                stack.pop()\n",
        "            else:\n",
        "                child.setVisited()\n",
        "                stack.push( child )"
      ],
      "execution_count": null,
      "outputs": []
    },
    {
      "cell_type": "markdown",
      "metadata": {
        "id": "dlFf11JMVmJ3",
        "colab_type": "text"
      },
      "source": [
        "# 問題を解く\n",
        "[ATC001 A - 深さ優先探索](https://atcoder.jp/contests/atc001/tasks/dfs_a)\n"
      ]
    },
    {
      "cell_type": "code",
      "metadata": {
        "id": "45huNUc3VpzL",
        "colab_type": "code",
        "colab": {}
      },
      "source": [
        "import sys, math, itertools, collections, bisect\n",
        "input = lambda: sys.stdin.buffer.readline().rstrip().decode('utf-8') \n",
        "inf = float('inf') ;mod = 10**9+7 \n",
        "mans = inf ;ans = 0 ;count = 0 ;pro = 1\n",
        "\n",
        "sys.setrecursionlimit(10**7) \n",
        "h, w = map(int, input().split())\n",
        "maze = [list(input()) for _ in range(h)]\n",
        "stack = []\n",
        "\n",
        "def dfs(x, y):\n",
        "    if not(0 <= x < h) or not(0 <= y < w) or maze[x][y]==\"#\":\n",
        "        return \n",
        "    if maze[x][y] == \"g\":\n",
        "        print(\"Yes\")\n",
        "        exit()\n",
        "\n",
        "    maze[x][y] = \"#\"\n",
        "    dfs(x+1, y)\n",
        "    dfs(x, y+1)\n",
        "    dfs(x-1, y)\n",
        "    dfs(x, y-1)\n",
        "\n",
        "for i in range(h):\n",
        "    for j in range(w):\n",
        "        if maze[i][j] == \"s\":\n",
        "            start_x = i\n",
        "            start_y = j\n",
        "\n",
        "dfs(start_x, start_y)\n",
        "print(\"No\")"
      ],
      "execution_count": null,
      "outputs": []
    }
  ]
}