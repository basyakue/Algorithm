{
  "nbformat": 4,
  "nbformat_minor": 0,
  "metadata": {
    "colab": {
      "name": "binary_search.ipynb",
      "provenance": [],
      "authorship_tag": "ABX9TyN72HFZHjV+M4P36aJoepuX",
      "include_colab_link": true
    },
    "kernelspec": {
      "name": "python3",
      "display_name": "Python 3"
    }
  },
  "cells": [
    {
      "cell_type": "markdown",
      "metadata": {
        "id": "view-in-github",
        "colab_type": "text"
      },
      "source": [
        "<a href=\"https://colab.research.google.com/github/basyakue/Algorithm/blob/master/binary_search.ipynb\" target=\"_parent\"><img src=\"https://colab.research.google.com/assets/colab-badge.svg\" alt=\"Open In Colab\"/></a>"
      ]
    },
    {
      "cell_type": "markdown",
      "metadata": {
        "id": "oOrPdU7CLRN5",
        "colab_type": "text"
      },
      "source": [
        "# 二分探索\n",
        "[Pythonで二分探索を行うライブラリ「bisect」](https://qiita.com/T_Wakasugi/items/c979e977f56531942de4)"
      ]
    },
    {
      "cell_type": "code",
      "metadata": {
        "id": "IPl4WKBqKroQ",
        "colab_type": "code",
        "colab": {
          "base_uri": "https://localhost:8080/",
          "height": 34
        },
        "outputId": "886018c1-75cf-4fae-f1f8-d6594f0937e0"
      },
      "source": [
        "import bisect\n",
        "a=[10,20,30,40,50,60,70,80,90,100]\n",
        "print(bisect.bisect(a,55))\n",
        "#bisectを使う時、入力するリストはすでにソート済みであることが前提である"
      ],
      "execution_count": 2,
      "outputs": [
        {
          "output_type": "stream",
          "text": [
            "5\n"
          ],
          "name": "stdout"
        }
      ]
    },
    {
      "cell_type": "code",
      "metadata": {
        "id": "84frTJ_ML76p",
        "colab_type": "code",
        "colab": {
          "base_uri": "https://localhost:8080/",
          "height": 68
        },
        "outputId": "a8dab10d-f279-4d37-9830-b0534a918eb6"
      },
      "source": [
        "a=[1,2,2,2,3]\n",
        "print(bisect.bisect_left(a,2))\n",
        "print(bisect.bisect_right(a,2))\n",
        "print(bisect.bisect(a,2))"
      ],
      "execution_count": 3,
      "outputs": [
        {
          "output_type": "stream",
          "text": [
            "1\n",
            "4\n",
            "4\n"
          ],
          "name": "stdout"
        }
      ]
    },
    {
      "cell_type": "code",
      "metadata": {
        "id": "2qDvt2iTMZZa",
        "colab_type": "code",
        "colab": {
          "base_uri": "https://localhost:8080/",
          "height": 34
        },
        "outputId": "f8bf408d-7c1d-43f2-e85e-6521ecdf315f"
      },
      "source": [
        "a=[10,20,30,40,50,60,70,80,90,100]\n",
        "bisect.insort(a,55)\n",
        "print(a)"
      ],
      "execution_count": 4,
      "outputs": [
        {
          "output_type": "stream",
          "text": [
            "[10, 20, 30, 40, 50, 55, 60, 70, 80, 90, 100]\n"
          ],
          "name": "stdout"
        }
      ]
    },
    {
      "cell_type": "code",
      "metadata": {
        "id": "oMZ4rEQmNdf2",
        "colab_type": "code",
        "colab": {
          "base_uri": "https://localhost:8080/",
          "height": 34
        },
        "outputId": "7712c56f-755d-4eac-e747-ab7dcc7f969d"
      },
      "source": [
        "def binary_search(data, value):\n",
        "    left = 0            # 探索する範囲の左端を設定\n",
        "    right = len(data) - 1            # 探索する範囲の右端を設定\n",
        "    while left <= right:\n",
        "        mid = (left + right) // 2            # 探索する範囲の中央を計算\n",
        "        if data[mid] == value:\n",
        "            # 中央の値と一致した場合は位置を返す\n",
        "            return mid\n",
        "        elif data[mid] < value:\n",
        "            # 中央の値より大きい場合は探索範囲の左を変える\n",
        "            left = mid + 1\n",
        "        else:\n",
        "            # 中央の値より小さい場合は探索範囲の右を変える\n",
        "            right = mid - 1\n",
        "    return -1            # 見つからなかった場合\n",
        "\n",
        "data = [10, 20, 30, 40, 50, 60, 70, 80, 90]\n",
        "print(binary_search(data, 90))"
      ],
      "execution_count": 5,
      "outputs": [
        {
          "output_type": "stream",
          "text": [
            "8\n"
          ],
          "name": "stdout"
        }
      ]
    },
    {
      "cell_type": "markdown",
      "metadata": {
        "id": "QvjJvpMYPQGo",
        "colab_type": "text"
      },
      "source": [
        "# 問題を解く\n",
        "[JOI 2007 本選 C ダーツ](https://www.ioi-jp.org/joi/2007/2008-ho-prob_and_sol/2008-ho.pdf#page=6)<br>\n",
        "[※提出はAtCoder](https://atcoder.jp/contests/joi2008ho/tasks/joi2008ho_c) "
      ]
    },
    {
      "cell_type": "code",
      "metadata": {
        "id": "uWr1aDk_QueK",
        "colab_type": "code",
        "colab": {}
      },
      "source": [
        "import sys, math, itertools, collections, bisect\n",
        "input = lambda: sys.stdin.buffer.readline().rstrip().decode('utf-8') \n",
        "inf = float('inf') ;mod = 10**9+7 \n",
        "mans = inf ;ans = 0 ;count = 0 ;pro = 1\n",
        "\n",
        "n, m = map(int, input().split())\n",
        "P = [int(input()) for _ in range(n)]\n",
        "P.append(0)\n",
        "P.sort()\n",
        "Q = []\n",
        "\n",
        "for i in range(n+1):\n",
        "    for j in range(i, n+1):\n",
        "        q = P[i]+P[j]\n",
        "        if q <= m:\n",
        "            Q.append(q)\n",
        "Q.sort()\n",
        "\n",
        "ans = 0\n",
        "for i in Q:\n",
        "    index = bisect.bisect_right(Q, m-i)\n",
        "    chk = i + Q[index-1]\n",
        "    ans = max(ans, chk)\n",
        "\n",
        "print(ans)"
      ],
      "execution_count": null,
      "outputs": []
    }
  ]
}