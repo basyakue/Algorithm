{
  "nbformat": 4,
  "nbformat_minor": 0,
  "metadata": {
    "colab": {
      "name": "bit.ipynb",
      "provenance": [],
      "collapsed_sections": [],
      "authorship_tag": "ABX9TyMzCJ98bNUowIkXiw8vM6Pa",
      "include_colab_link": true
    },
    "kernelspec": {
      "name": "python3",
      "display_name": "Python 3"
    }
  },
  "cells": [
    {
      "cell_type": "markdown",
      "metadata": {
        "id": "view-in-github",
        "colab_type": "text"
      },
      "source": [
        "<a href=\"https://colab.research.google.com/github/basyakue/Algorithm/blob/master/bit.ipynb\" target=\"_parent\"><img src=\"https://colab.research.google.com/assets/colab-badge.svg\" alt=\"Open In Colab\"/></a>"
      ]
    },
    {
      "cell_type": "markdown",
      "metadata": {
        "id": "DO7At1gSdsYM",
        "colab_type": "text"
      },
      "source": [
        "bit演算を学ぶ<br>\n",
        "以下参考<br>\n",
        "https://qiita.com/drken/items/7c6ff2aa4d8fce1c9361<br>\n",
        "https://note.nkmk.me/python-bit-operation/"
      ]
    },
    {
      "cell_type": "code",
      "metadata": {
        "id": "lnE3gDS9fZOf",
        "colab_type": "code",
        "colab": {
          "base_uri": "https://localhost:8080/",
          "height": 170
        },
        "outputId": "8775b402-ff63-410e-c37a-fd9bb25594a2"
      },
      "source": [
        "#左シフト\n",
        "print(\"5<<0 : \", bin(5<<0))\n",
        "print(\"5<<1 : \", bin(5<<1))\n",
        "print(\"5<<2 : \", bin(5<<2))\n",
        "print(\"5<<3 : \", bin(5<<3))\n",
        "\n",
        "print(\"---------------------\")\n",
        "\n",
        "#右シフト\n",
        "print(\"5>>0 : \", bin(5>>0))\n",
        "print(\"5>>1 : \", bin(5>>1))\n",
        "print(\"5>>2 : \", bin(5>>2))\n",
        "print(\"5>>3 : \", bin(5>>3))"
      ],
      "execution_count": 1,
      "outputs": [
        {
          "output_type": "stream",
          "text": [
            "5<<0 :  0b101\n",
            "5<<1 :  0b1010\n",
            "5<<2 :  0b10100\n",
            "5<<3 :  0b101000\n",
            "---------------------\n",
            "5>>0 :  0b101\n",
            "5>>1 :  0b10\n",
            "5>>2 :  0b1\n",
            "5>>3 :  0b0\n"
          ],
          "name": "stdout"
        }
      ]
    },
    {
      "cell_type": "code",
      "metadata": {
        "id": "Lz7UsS1afA_g",
        "colab_type": "code",
        "colab": {
          "base_uri": "https://localhost:8080/",
          "height": 85
        },
        "outputId": "ca914f93-9f90-4712-fb73-8ef2ead6cad9"
      },
      "source": [
        "print(bin(45),\"\\n\",bin(25),\"\\n\", bin(9),\"\\n\", bin(61))"
      ],
      "execution_count": 2,
      "outputs": [
        {
          "output_type": "stream",
          "text": [
            "0b101101 \n",
            " 0b11001 \n",
            " 0b1001 \n",
            " 0b111101\n"
          ],
          "name": "stdout"
        }
      ]
    },
    {
      "cell_type": "code",
      "metadata": {
        "id": "-vtmNrvlbtMW",
        "colab_type": "code",
        "colab": {
          "base_uri": "https://localhost:8080/",
          "height": 68
        },
        "outputId": "503c2c74-8972-41ff-8fdd-49ccf62f8e49"
      },
      "source": [
        "#AND\n",
        "a = 45\n",
        "b = 25\n",
        "print(a & b)\n",
        "\n",
        "print(\"-----------------\")\n",
        "\n",
        "\"\"\"\n",
        "    10010010\n",
        "&) 10100111\n",
        "-----------\n",
        "   10000010\n",
        "\"\"\"\n",
        "\n",
        "print(bin(0b10010010 & 0b10100111))"
      ],
      "execution_count": 3,
      "outputs": [
        {
          "output_type": "stream",
          "text": [
            "9\n",
            "-----------------\n",
            "0b10000010\n"
          ],
          "name": "stdout"
        }
      ]
    },
    {
      "cell_type": "code",
      "metadata": {
        "id": "tKUTXzK7eAnR",
        "colab_type": "code",
        "colab": {
          "base_uri": "https://localhost:8080/",
          "height": 68
        },
        "outputId": "abb92557-4c36-43f3-e590-54ae85605c39"
      },
      "source": [
        "#OR\n",
        "a = 45\n",
        "b = 25\n",
        "print(a | b)\n",
        "\n",
        "print(\"-------------------\")\n",
        "\n",
        "\"\"\"\n",
        "   10010010\n",
        "|) 10100111\n",
        "-----------\n",
        "   10110111\n",
        "\"\"\"\n",
        "print(bin(0b10010010 | 0b10100111))"
      ],
      "execution_count": 4,
      "outputs": [
        {
          "output_type": "stream",
          "text": [
            "61\n",
            "-------------------\n",
            "0b10110111\n"
          ],
          "name": "stdout"
        }
      ]
    },
    {
      "cell_type": "code",
      "metadata": {
        "id": "cU52udSekPTm",
        "colab_type": "code",
        "colab": {
          "base_uri": "https://localhost:8080/",
          "height": 51
        },
        "outputId": "97670745-35a1-4590-f751-e37bc3dfec24"
      },
      "source": [
        "#XOR\n",
        "\"\"\"\n",
        "   10010010\n",
        "^) 10100111\n",
        "-----------\n",
        "   00110101\n",
        "\"\"\"\n",
        "print(bin(0b10010010 ^ 0b10100111))\n",
        "print(bin(0b10010010 ^ 0b10100111 ^ 0b10100111)) #もとの値を消す"
      ],
      "execution_count": 5,
      "outputs": [
        {
          "output_type": "stream",
          "text": [
            "0b110101\n",
            "0b10010010\n"
          ],
          "name": "stdout"
        }
      ]
    },
    {
      "cell_type": "code",
      "metadata": {
        "id": "VehW2tKflu7D",
        "colab_type": "code",
        "colab": {
          "base_uri": "https://localhost:8080/",
          "height": 34
        },
        "outputId": "220c2201-48a4-48c7-d5d5-e361150b1cf5"
      },
      "source": [
        "#ビットマスク\n",
        "\"\"\"\n",
        "例: 101110から下位3ビット（太字の部分）を取り出す。\n",
        "   101110\n",
        "&) 000111\n",
        "---------\n",
        "   000110\n",
        "\"\"\"\n",
        "print(bin((0b101110 >> 2) & 0b11))"
      ],
      "execution_count": 6,
      "outputs": [
        {
          "output_type": "stream",
          "text": [
            "0b11\n"
          ],
          "name": "stdout"
        }
      ]
    },
    {
      "cell_type": "markdown",
      "metadata": {
        "id": "7f63XMiVmk05",
        "colab_type": "text"
      },
      "source": [
        "飽きてきたので問題を解く<br>\n",
        "[AtCoder ABC 147 C - HonestOrUnkind2](https://atcoder.jp/contests/abc147/tasks/abc147_c)<br>\n",
        "[けんちょんの競プロ精進記録 - bit全探索](https://drken1215.hatenablog.com/entry/2019/12/14/171657)"
      ]
    },
    {
      "cell_type": "code",
      "metadata": {
        "id": "wr3f4KjKmsD_",
        "colab_type": "code",
        "colab": {
          "base_uri": "https://localhost:8080/",
          "height": 204
        },
        "outputId": "e0d854f9-e306-4576-e8f4-ec004b0e1001"
      },
      "source": [
        "n = int(input())\n",
        "lists = [[] for _ in range(n)]\n",
        "for i in range(n):\n",
        "    a = int(input())\n",
        "    for j in range(a):\n",
        "        x, y = map(int, input().split())\n",
        "        lists[i].append((x-1, y))\n",
        "ans = 0\n",
        "for i in range(1, 2**n):\n",
        "    status = True\n",
        "    for j in range(n):\n",
        "        if (i >> j) & 1 == 0:\n",
        "            continue\n",
        "        for x, y in lists[j]:\n",
        "            if (i >> x) & 1 != y:\n",
        "                status = False\n",
        "                break\n",
        "        if status == False:\n",
        "            break\n",
        "    if status == True:\n",
        "        ans = max(ans, bin(i).count('1'))\n",
        "print(ans)"
      ],
      "execution_count": 8,
      "outputs": [
        {
          "output_type": "stream",
          "text": [
            "3\n",
            "2\n",
            "2 1\n",
            "3 0\n",
            "2\n",
            "3 1\n",
            "1 0\n",
            "2\n",
            "1 1\n",
            "2 0\n",
            "0\n"
          ],
          "name": "stdout"
        }
      ]
    },
    {
      "cell_type": "code",
      "metadata": {
        "id": "1_ZjN3flyxS1",
        "colab_type": "code",
        "colab": {
          "base_uri": "https://localhost:8080/",
          "height": 170
        },
        "outputId": "fb27d219-c78d-4c9c-9e50-db7cc460288e"
      },
      "source": [
        "lists = [[1,2], [3,4], [5, 6]]\n",
        "for list in lists:\n",
        "  print(list)\n",
        "\n",
        "for x, y in lists:\n",
        "  print(x, y)\n",
        "  print(x*y)"
      ],
      "execution_count": 9,
      "outputs": [
        {
          "output_type": "stream",
          "text": [
            "[1, 2]\n",
            "[3, 4]\n",
            "[5, 6]\n",
            "1 2\n",
            "2\n",
            "3 4\n",
            "12\n",
            "5 6\n",
            "30\n"
          ],
          "name": "stdout"
        }
      ]
    }
  ]
}