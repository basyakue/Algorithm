{
  "nbformat": 4,
  "nbformat_minor": 0,
  "metadata": {
    "colab": {
      "name": "bit.ipynb",
      "provenance": [],
      "collapsed_sections": [],
      "authorship_tag": "ABX9TyPxe4+u5wfUQYHowIBkOQwI",
      "include_colab_link": true
    },
    "kernelspec": {
      "name": "python3",
      "display_name": "Python 3"
    }
  },
  "cells": [
    {
      "cell_type": "markdown",
      "metadata": {
        "id": "view-in-github",
        "colab_type": "text"
      },
      "source": [
        "<a href=\"https://colab.research.google.com/github/basyakue/Algorithm/blob/master/bit.ipynb\" target=\"_parent\"><img src=\"https://colab.research.google.com/assets/colab-badge.svg\" alt=\"Open In Colab\"/></a>"
      ]
    },
    {
      "cell_type": "markdown",
      "metadata": {
        "id": "DO7At1gSdsYM",
        "colab_type": "text"
      },
      "source": [
        "bit演算を学ぶ<br>\n",
        "以下参考<br>\n",
        "https://qiita.com/drken/items/7c6ff2aa4d8fce1c9361<br>\n",
        "https://note.nkmk.me/python-bit-operation/"
      ]
    },
    {
      "cell_type": "code",
      "metadata": {
        "id": "-vtmNrvlbtMW",
        "colab_type": "code",
        "colab": {
          "base_uri": "https://localhost:8080/",
          "height": 34
        },
        "outputId": "b3818e89-f034-4619-9e5c-052dc5077500"
      },
      "source": [
        "#AND\n",
        "a = 45\n",
        "b = 25\n",
        "print(a & b)"
      ],
      "execution_count": 3,
      "outputs": [
        {
          "output_type": "stream",
          "text": [
            "9\n"
          ],
          "name": "stdout"
        }
      ]
    },
    {
      "cell_type": "code",
      "metadata": {
        "id": "tKUTXzK7eAnR",
        "colab_type": "code",
        "colab": {
          "base_uri": "https://localhost:8080/",
          "height": 34
        },
        "outputId": "a8c6ac1d-d38d-42a5-8b0d-40d073df7d95"
      },
      "source": [
        "#OR\n",
        "a = 45\n",
        "b = 25\n",
        "print(a | b)"
      ],
      "execution_count": 4,
      "outputs": [
        {
          "output_type": "stream",
          "text": [
            "61\n"
          ],
          "name": "stdout"
        }
      ]
    },
    {
      "cell_type": "code",
      "metadata": {
        "id": "Lz7UsS1afA_g",
        "colab_type": "code",
        "colab": {
          "base_uri": "https://localhost:8080/",
          "height": 85
        },
        "outputId": "190c08dd-8a77-4fb2-e872-0a3874dacb22"
      },
      "source": [
        "print(bin(45),\"\\n\",bin(25),\"\\n\", bin(9),\"\\n\", bin(61))"
      ],
      "execution_count": 7,
      "outputs": [
        {
          "output_type": "stream",
          "text": [
            "0b101101 \n",
            " 0b11001 \n",
            " 0b1001 \n",
            " 0b111101\n"
          ],
          "name": "stdout"
        }
      ]
    },
    {
      "cell_type": "code",
      "metadata": {
        "id": "lnE3gDS9fZOf",
        "colab_type": "code",
        "colab": {}
      },
      "source": [
        "flag0 = (1 << 0)\n",
        "flag1 = (1 << 1)\n",
        "flag2 = (1 << 2)\n",
        "flag3 = (1 << 3)\n",
        "flag4 = (1 << 4)\n",
        "flag5 = (1 << 5)\n",
        "\n",
        "bit = (flag1 | flag3 | flag5)\n",
        "\n",
        "if bit & flag3:\n",
        "  print(\"3 is in     \", bin(bit))\n",
        "\n",
        "if not (bit & flag0):\n",
        "  print(\"0 is not in \", bin(bit))"
      ],
      "execution_count": null,
      "outputs": []
    }
  ]
}