{
  "nbformat": 4,
  "nbformat_minor": 0,
  "metadata": {
    "colab": {
      "name": "bit.ipynb",
      "provenance": [],
      "collapsed_sections": [],
      "authorship_tag": "ABX9TyPirkJ39jMq/FSgXvJKuVO8",
      "include_colab_link": true
    },
    "kernelspec": {
      "name": "python3",
      "display_name": "Python 3"
    }
  },
  "cells": [
    {
      "cell_type": "markdown",
      "metadata": {
        "id": "view-in-github",
        "colab_type": "text"
      },
      "source": [
        "<a href=\"https://colab.research.google.com/github/basyakue/Algorithm/blob/master/bit.ipynb\" target=\"_parent\"><img src=\"https://colab.research.google.com/assets/colab-badge.svg\" alt=\"Open In Colab\"/></a>"
      ]
    },
    {
      "cell_type": "markdown",
      "metadata": {
        "id": "DO7At1gSdsYM",
        "colab_type": "text"
      },
      "source": [
        "bit演算を学ぶ<br>\n",
        "以下参考<br>\n",
        "https://qiita.com/drken/items/7c6ff2aa4d8fce1c9361<br>\n",
        "https://note.nkmk.me/python-bit-operation/"
      ]
    },
    {
      "cell_type": "code",
      "metadata": {
        "id": "lnE3gDS9fZOf",
        "colab_type": "code",
        "colab": {
          "base_uri": "https://localhost:8080/",
          "height": 170
        },
        "outputId": "e0e9f6d3-3ff9-4bbc-f566-10567fd79e9a"
      },
      "source": [
        "#左シフト\n",
        "print(\"5<<0 : \", bin(5<<0))\n",
        "print(\"5<<1 : \", bin(5<<1))\n",
        "print(\"5<<2 : \", bin(5<<2))\n",
        "print(\"5<<3 : \", bin(5<<3))\n",
        "\n",
        "print(\"---------------------\")\n",
        "\n",
        "#右シフト\n",
        "print(\"5>>0 : \", bin(5>>0))\n",
        "print(\"5>>1 : \", bin(5>>1))\n",
        "print(\"5>>2 : \", bin(5>>2))\n",
        "print(\"5>>3 : \", bin(5>>3))"
      ],
      "execution_count": 8,
      "outputs": [
        {
          "output_type": "stream",
          "text": [
            "5<<0 :  0b101\n",
            "5<<1 :  0b1010\n",
            "5<<2 :  0b10100\n",
            "5<<3 :  0b101000\n",
            "---------------------\n",
            "5>>0 :  0b101\n",
            "5>>1 :  0b10\n",
            "5>>2 :  0b1\n",
            "5>>3 :  0b0\n"
          ],
          "name": "stdout"
        }
      ]
    },
    {
      "cell_type": "code",
      "metadata": {
        "id": "Lz7UsS1afA_g",
        "colab_type": "code",
        "colab": {
          "base_uri": "https://localhost:8080/",
          "height": 85
        },
        "outputId": "190c08dd-8a77-4fb2-e872-0a3874dacb22"
      },
      "source": [
        "print(bin(45),\"\\n\",bin(25),\"\\n\", bin(9),\"\\n\", bin(61))"
      ],
      "execution_count": 7,
      "outputs": [
        {
          "output_type": "stream",
          "text": [
            "0b101101 \n",
            " 0b11001 \n",
            " 0b1001 \n",
            " 0b111101\n"
          ],
          "name": "stdout"
        }
      ]
    },
    {
      "cell_type": "code",
      "metadata": {
        "id": "-vtmNrvlbtMW",
        "colab_type": "code",
        "colab": {
          "base_uri": "https://localhost:8080/",
          "height": 68
        },
        "outputId": "cbb4156f-0803-4cd9-a3a9-0535827013f3"
      },
      "source": [
        "#AND\n",
        "a = 45\n",
        "b = 25\n",
        "print(a & b)\n",
        "\n",
        "print(\"-----------------\")\n",
        "\n",
        "\"\"\"\n",
        "    10010010\n",
        "&) 10100111\n",
        "-----------\n",
        "   10000010\n",
        "\"\"\"\n",
        "\n",
        "print(bin(0b10010010 & 0b10100111))"
      ],
      "execution_count": 9,
      "outputs": [
        {
          "output_type": "stream",
          "text": [
            "9\n",
            "-----------------\n",
            "0b10000010\n"
          ],
          "name": "stdout"
        }
      ]
    },
    {
      "cell_type": "code",
      "metadata": {
        "id": "tKUTXzK7eAnR",
        "colab_type": "code",
        "colab": {
          "base_uri": "https://localhost:8080/",
          "height": 68
        },
        "outputId": "af5cd6ea-3625-4a23-9de4-ffc35d7230fc"
      },
      "source": [
        "#OR\n",
        "a = 45\n",
        "b = 25\n",
        "print(a | b)\n",
        "\n",
        "print(\"-------------------\")\n",
        "\n",
        "\"\"\"\n",
        "   10010010\n",
        "|) 10100111\n",
        "-----------\n",
        "   10110111\n",
        "\"\"\"\n",
        "print(bin(0b10010010 | 0b10100111))"
      ],
      "execution_count": 10,
      "outputs": [
        {
          "output_type": "stream",
          "text": [
            "61\n",
            "-------------------\n",
            "0b10110111\n"
          ],
          "name": "stdout"
        }
      ]
    },
    {
      "cell_type": "code",
      "metadata": {
        "id": "cU52udSekPTm",
        "colab_type": "code",
        "colab": {
          "base_uri": "https://localhost:8080/",
          "height": 51
        },
        "outputId": "46af0b89-5a6e-4581-8d16-b716b89ff0ea"
      },
      "source": [
        "#XOR\n",
        "\"\"\"\n",
        "   10010010\n",
        "^) 10100111\n",
        "-----------\n",
        "   00110101\n",
        "\"\"\"\n",
        "print(bin(0b10010010 ^ 0b10100111))\n",
        "print(bin(0b10010010 ^ 0b10100111 ^ 0b10100111)) #もとの値を消す"
      ],
      "execution_count": 12,
      "outputs": [
        {
          "output_type": "stream",
          "text": [
            "0b110101\n",
            "0b10010010\n"
          ],
          "name": "stdout"
        }
      ]
    },
    {
      "cell_type": "code",
      "metadata": {
        "id": "VehW2tKflu7D",
        "colab_type": "code",
        "colab": {
          "base_uri": "https://localhost:8080/",
          "height": 34
        },
        "outputId": "ffdbdfde-511c-49d3-c07f-bead55816de9"
      },
      "source": [
        "#ビットマスク\n",
        "\"\"\"\n",
        "例: 101110から下位3ビット（太字の部分）を取り出す。\n",
        "   101110\n",
        "&) 000111\n",
        "---------\n",
        "   000110\n",
        "\"\"\"\n",
        "print(bin((0b101110 >> 2) & 0b11))"
      ],
      "execution_count": 13,
      "outputs": [
        {
          "output_type": "stream",
          "text": [
            "0b11\n"
          ],
          "name": "stdout"
        }
      ]
    },
    {
      "cell_type": "markdown",
      "metadata": {
        "id": "7f63XMiVmk05",
        "colab_type": "text"
      },
      "source": [
        "飽きてきたので問題を解く<br>\n",
        "[AtCoder ABC 147 C - HonestOrUnkind2](https://atcoder.jp/contests/abc147/tasks/abc147_c)"
      ]
    },
    {
      "cell_type": "code",
      "metadata": {
        "id": "wr3f4KjKmsD_",
        "colab_type": "code",
        "colab": {}
      },
      "source": [
        "n = int(input())\n",
        "for i in range(n):\n",
        "  x1, y1 = "
      ],
      "execution_count": null,
      "outputs": []
    }
  ]
}